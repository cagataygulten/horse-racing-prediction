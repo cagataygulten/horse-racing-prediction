{
 "cells": [
  {
   "cell_type": "code",
   "execution_count": 1,
   "id": "ba292bcd",
   "metadata": {},
   "outputs": [],
   "source": [
    "import pandas as pd\n",
    "import numpy as np\n",
    "from selenium import webdriver\n",
    "from selenium.webdriver.common.keys import Keys\n",
    "from selenium.webdriver.support.ui import WebDriverWait\n",
    "from selenium.webdriver.common.by import By\n",
    "from selenium.webdriver.support import expected_conditions as EC\n",
    "import re\n",
    "import time\n",
    "import pickle\n",
    "from sklearn.model_selection import GridSearchCV\n",
    "from sklearn.ensemble import GradientBoostingRegressor\n",
    "from sklearn.linear_model import Lasso\n",
    "from sklearn.linear_model import Ridge\n",
    "from sklearn.neighbors import KNeighborsRegressor\n",
    "from sklearn.ensemble import VotingRegressor\n",
    "import itertools"
   ]
  },
  {
   "cell_type": "code",
   "execution_count": 2,
   "id": "2be57fac",
   "metadata": {},
   "outputs": [
    {
     "name": "stderr",
     "output_type": "stream",
     "text": [
      "c:\\users\\cagat\\appdata\\local\\programs\\python\\python39\\lib\\site-packages\\numpy\\lib\\arraysetops.py:583: FutureWarning: elementwise comparison failed; returning scalar instead, but in the future will perform elementwise comparison\n",
      "  mask |= (ar1 == a)\n"
     ]
    }
   ],
   "source": [
    "df1=pd.read_csv(\"tjk_data_processed.csv\",index_col = [0])"
   ]
  },
  {
   "cell_type": "code",
   "execution_count": 3,
   "id": "d6df8bbd",
   "metadata": {},
   "outputs": [
    {
     "name": "stdout",
     "output_type": "stream",
     "text": [
      "<class 'pandas.core.frame.DataFrame'>\n",
      "Int64Index: 1108882 entries, 0 to 1139073\n",
      "Data columns (total 78 columns):\n",
      " #   Column                      Non-Null Count    Dtype  \n",
      "---  ------                      --------------    -----  \n",
      " 0   age                         1108882 non-null  int64  \n",
      " 1   weight                      1108882 non-null  float64\n",
      " 2   city                        1108882 non-null  object \n",
      " 3   ada                         1108882 non-null  int64  \n",
      " 4   ank                         1108882 non-null  int64  \n",
      " 5   bur                         1108882 non-null  int64  \n",
      " 6   diy                         1108882 non-null  int64  \n",
      " 7   ela                         1108882 non-null  int64  \n",
      " 8   ist                         1108882 non-null  int64  \n",
      " 9   izm                         1108882 non-null  int64  \n",
      " 10  koc                         1108882 non-null  int64  \n",
      " 11  urf                         1108882 non-null  int64  \n",
      " 12  short                       1108882 non-null  int64  \n",
      " 13  middle                      1108882 non-null  int64  \n",
      " 14  long                        1108882 non-null  int64  \n",
      " 15  distance_cat                1108882 non-null  object \n",
      " 16  Dirt                        1108882 non-null  int64  \n",
      " 17  Turf                        1108882 non-null  int64  \n",
      " 18  surface                     1108882 non-null  object \n",
      " 19  arabian                     1108882 non-null  int64  \n",
      " 20  english                     1108882 non-null  int64  \n",
      " 21  breed                       1108882 non-null  object \n",
      " 22  f                           1108882 non-null  int64  \n",
      " 23  m                           1108882 non-null  int64  \n",
      " 24  gender                      1108882 non-null  object \n",
      " 25  jockey_pct1                 1108882 non-null  float64\n",
      " 26  jockey_pct2                 1108882 non-null  float64\n",
      " 27  jockey_pct3                 1108882 non-null  float64\n",
      " 28  jockey_pct4                 1108882 non-null  float64\n",
      " 29  jockey_wa                   1108882 non-null  float64\n",
      " 30  thoroughbred_city_pct1      1108882 non-null  float64\n",
      " 31  thoroughbred_city_pct2      1108882 non-null  float64\n",
      " 32  thoroughbred_city_pct3      1108882 non-null  float64\n",
      " 33  thoroughbred_city_pct4      1108882 non-null  float64\n",
      " 34  thoroughbred_city_wa        1108882 non-null  float64\n",
      " 35  thoroughbred_surface_pct1   1108882 non-null  float64\n",
      " 36  thoroughbred_surface_pct2   1108882 non-null  float64\n",
      " 37  thoroughbred_surface_pct3   1108882 non-null  float64\n",
      " 38  thoroughbred_surface_pct4   1108882 non-null  float64\n",
      " 39  thoroughbred_surface_wa     1108882 non-null  float64\n",
      " 40  mother_surface_pct1         1108882 non-null  float64\n",
      " 41  mother_surface_pct2         1108882 non-null  float64\n",
      " 42  mother_surface_pct3         1108882 non-null  float64\n",
      " 43  mother_surface_pct4         1108882 non-null  float64\n",
      " 44  mother_surface_wa           1108882 non-null  float64\n",
      " 45  father_surface_pct1         1108882 non-null  float64\n",
      " 46  father_surface_pct2         1108882 non-null  float64\n",
      " 47  father_surface_pct3         1108882 non-null  float64\n",
      " 48  father_surface_pct4         1108882 non-null  float64\n",
      " 49  father_surface_wa           1108882 non-null  float64\n",
      " 50  thoroughbred_distance_pct1  1108882 non-null  float64\n",
      " 51  thoroughbred_distance_pct2  1108882 non-null  float64\n",
      " 52  thoroughbred_distance_pct3  1108882 non-null  float64\n",
      " 53  thoroughbred_distance_pct4  1108882 non-null  float64\n",
      " 54  thoroughbred_distance_wa    1108882 non-null  float64\n",
      " 55  father_distance_pct1        1108882 non-null  float64\n",
      " 56  father_distance_pct2        1108882 non-null  float64\n",
      " 57  father_distance_pct3        1108882 non-null  float64\n",
      " 58  father_distance_pct4        1108882 non-null  float64\n",
      " 59  father_distance_wa          1108882 non-null  float64\n",
      " 60  mother_distance_pct1        1108882 non-null  float64\n",
      " 61  mother_distance_pct2        1108882 non-null  float64\n",
      " 62  mother_distance_pct3        1108882 non-null  float64\n",
      " 63  mother_distance_pct4        1108882 non-null  float64\n",
      " 64  mother_distance_wa          1108882 non-null  float64\n",
      " 65  mother_general_pct1         1108882 non-null  float64\n",
      " 66  mother_general_pct2         1108882 non-null  float64\n",
      " 67  mother_general_pct3         1108882 non-null  float64\n",
      " 68  mother_general_pct4         1108882 non-null  float64\n",
      " 69  mother_general_wa           1108882 non-null  float64\n",
      " 70  father_general_pct1         1108882 non-null  float64\n",
      " 71  father_general_pct2         1108882 non-null  float64\n",
      " 72  father_general_pct3         1108882 non-null  float64\n",
      " 73  father_general_pct4         1108882 non-null  float64\n",
      " 74  father_general_wa           1108882 non-null  float64\n",
      " 75  centiseconds                1108882 non-null  int64  \n",
      " 76  thoroughbred_id             1108882 non-null  int64  \n",
      " 77  jockey_id                   1108882 non-null  int64  \n",
      "dtypes: float64(51), int64(22), object(5)\n",
      "memory usage: 668.3+ MB\n"
     ]
    }
   ],
   "source": [
    "df1.info()"
   ]
  },
  {
   "cell_type": "code",
   "execution_count": 4,
   "id": "dc31a934",
   "metadata": {},
   "outputs": [],
   "source": [
    "distance=\"short\"\n",
    "surface=\"Dirt\"\n",
    "\n",
    "# Distance masked dataframe (picks only data in same distance category)\n",
    "df_mask_distance = df1[df1[\"distance_cat\"]==distance]\n",
    "\n",
    "# Surface masked dataframe (picks only data in same surface)\n",
    "df_mask_surface = df1[df1[\"surface\"]==surface]\n",
    "\n",
    "# Both same surface and same distance category masked dataframe (Will be used as train set)\n",
    "df_double_mask = df_mask_distance[df_mask_distance[\"surface\"]==surface]\n",
    "\n",
    "#Creates a dictionary with required column names\n",
    "test_set_dict_k1={\"thoroughbred_id\":[],\"jockey_wa\":[],\"thoroughbred_surface_wa\":[],\"mother_surface_wa\":[],\n",
    "                   \"father_surface_wa\":[],\"thoroughbred_distance_wa\":[],\"father_distance_wa\":[],\"mother_distance_wa\":[],\n",
    "                   \"mother_general_wa\":[],\"father_general_wa\":[]} # Wa means Weighted Average\n",
    "\n",
    "# Function that creates dataframe from dictionaries\n",
    "def train_set_to_x_y(df):\n",
    "    df_train_total = df[[\"jockey_wa\",\"thoroughbred_surface_wa\",\"mother_surface_wa\",\"father_surface_wa\",\n",
    "                         \"thoroughbred_distance_wa\",\"father_distance_wa\",\"mother_distance_wa\",\"mother_general_wa\",\n",
    "                         \"father_general_wa\",\"centiseconds\"]]\n",
    "    y_train=df_train_total[\"centiseconds\"]\n",
    "    X_train=df_train_total.copy()\n",
    "    del X_train[\"centiseconds\"]\n",
    "    return X_train,y_train,df_train_total\n",
    "\n",
    "X_train,y_train,df_train_total = train_set_to_x_y(df_double_mask)"
   ]
  },
  {
   "cell_type": "code",
   "execution_count": 25,
   "id": "a24559b4",
   "metadata": {},
   "outputs": [
    {
     "data": {
      "text/html": [
       "<div>\n",
       "<style scoped>\n",
       "    .dataframe tbody tr th:only-of-type {\n",
       "        vertical-align: middle;\n",
       "    }\n",
       "\n",
       "    .dataframe tbody tr th {\n",
       "        vertical-align: top;\n",
       "    }\n",
       "\n",
       "    .dataframe thead th {\n",
       "        text-align: right;\n",
       "    }\n",
       "</style>\n",
       "<table border=\"1\" class=\"dataframe\">\n",
       "  <thead>\n",
       "    <tr style=\"text-align: right;\">\n",
       "      <th></th>\n",
       "      <th>jockey_wa</th>\n",
       "      <th>thoroughbred_surface_wa</th>\n",
       "      <th>mother_surface_wa</th>\n",
       "      <th>father_surface_wa</th>\n",
       "      <th>thoroughbred_distance_wa</th>\n",
       "      <th>father_distance_wa</th>\n",
       "      <th>mother_distance_wa</th>\n",
       "      <th>mother_general_wa</th>\n",
       "      <th>father_general_wa</th>\n",
       "      <th>centiseconds</th>\n",
       "    </tr>\n",
       "  </thead>\n",
       "  <tbody>\n",
       "    <tr>\n",
       "      <th>0</th>\n",
       "      <td>0.215971</td>\n",
       "      <td>0.378049</td>\n",
       "      <td>0.239698</td>\n",
       "      <td>0.216485</td>\n",
       "      <td>0.452941</td>\n",
       "      <td>0.221374</td>\n",
       "      <td>0.225455</td>\n",
       "      <td>0.197015</td>\n",
       "      <td>0.196410</td>\n",
       "      <td>9405</td>\n",
       "    </tr>\n",
       "    <tr>\n",
       "      <th>1</th>\n",
       "      <td>0.234601</td>\n",
       "      <td>0.186364</td>\n",
       "      <td>0.242809</td>\n",
       "      <td>0.213500</td>\n",
       "      <td>0.200000</td>\n",
       "      <td>0.190651</td>\n",
       "      <td>0.202105</td>\n",
       "      <td>0.229280</td>\n",
       "      <td>0.200867</td>\n",
       "      <td>9617</td>\n",
       "    </tr>\n",
       "    <tr>\n",
       "      <th>2</th>\n",
       "      <td>0.135422</td>\n",
       "      <td>0.390000</td>\n",
       "      <td>0.175978</td>\n",
       "      <td>0.211000</td>\n",
       "      <td>0.200000</td>\n",
       "      <td>0.186903</td>\n",
       "      <td>0.159664</td>\n",
       "      <td>0.162583</td>\n",
       "      <td>0.185879</td>\n",
       "      <td>9749</td>\n",
       "    </tr>\n",
       "    <tr>\n",
       "      <th>3</th>\n",
       "      <td>0.237233</td>\n",
       "      <td>0.108571</td>\n",
       "      <td>0.102222</td>\n",
       "      <td>0.115169</td>\n",
       "      <td>0.133333</td>\n",
       "      <td>0.121289</td>\n",
       "      <td>0.078125</td>\n",
       "      <td>0.097872</td>\n",
       "      <td>0.129344</td>\n",
       "      <td>10049</td>\n",
       "    </tr>\n",
       "    <tr>\n",
       "      <th>12</th>\n",
       "      <td>0.263259</td>\n",
       "      <td>0.267000</td>\n",
       "      <td>0.267000</td>\n",
       "      <td>0.126294</td>\n",
       "      <td>0.302326</td>\n",
       "      <td>0.116803</td>\n",
       "      <td>0.302326</td>\n",
       "      <td>0.231034</td>\n",
       "      <td>0.134732</td>\n",
       "      <td>10294</td>\n",
       "    </tr>\n",
       "    <tr>\n",
       "      <th>...</th>\n",
       "      <td>...</td>\n",
       "      <td>...</td>\n",
       "      <td>...</td>\n",
       "      <td>...</td>\n",
       "      <td>...</td>\n",
       "      <td>...</td>\n",
       "      <td>...</td>\n",
       "      <td>...</td>\n",
       "      <td>...</td>\n",
       "      <td>...</td>\n",
       "    </tr>\n",
       "    <tr>\n",
       "      <th>1138972</th>\n",
       "      <td>0.187292</td>\n",
       "      <td>0.222222</td>\n",
       "      <td>0.271429</td>\n",
       "      <td>0.234439</td>\n",
       "      <td>0.182353</td>\n",
       "      <td>0.232649</td>\n",
       "      <td>0.238889</td>\n",
       "      <td>0.239394</td>\n",
       "      <td>0.224926</td>\n",
       "      <td>10701</td>\n",
       "    </tr>\n",
       "    <tr>\n",
       "      <th>1138973</th>\n",
       "      <td>0.187944</td>\n",
       "      <td>0.000000</td>\n",
       "      <td>0.465116</td>\n",
       "      <td>0.183257</td>\n",
       "      <td>0.000000</td>\n",
       "      <td>0.201343</td>\n",
       "      <td>0.385106</td>\n",
       "      <td>0.406024</td>\n",
       "      <td>0.193552</td>\n",
       "      <td>10720</td>\n",
       "    </tr>\n",
       "    <tr>\n",
       "      <th>1138974</th>\n",
       "      <td>0.156719</td>\n",
       "      <td>0.060000</td>\n",
       "      <td>0.060000</td>\n",
       "      <td>0.197485</td>\n",
       "      <td>0.060000</td>\n",
       "      <td>0.187191</td>\n",
       "      <td>0.060000</td>\n",
       "      <td>0.042857</td>\n",
       "      <td>0.181493</td>\n",
       "      <td>10746</td>\n",
       "    </tr>\n",
       "    <tr>\n",
       "      <th>1138975</th>\n",
       "      <td>0.112419</td>\n",
       "      <td>0.172727</td>\n",
       "      <td>0.198214</td>\n",
       "      <td>0.195779</td>\n",
       "      <td>0.214286</td>\n",
       "      <td>0.204669</td>\n",
       "      <td>0.279747</td>\n",
       "      <td>0.231405</td>\n",
       "      <td>0.198864</td>\n",
       "      <td>10785</td>\n",
       "    </tr>\n",
       "    <tr>\n",
       "      <th>1138976</th>\n",
       "      <td>0.144099</td>\n",
       "      <td>0.000000</td>\n",
       "      <td>0.128571</td>\n",
       "      <td>0.213761</td>\n",
       "      <td>0.000000</td>\n",
       "      <td>0.193147</td>\n",
       "      <td>0.161111</td>\n",
       "      <td>0.165116</td>\n",
       "      <td>0.195481</td>\n",
       "      <td>11222</td>\n",
       "    </tr>\n",
       "  </tbody>\n",
       "</table>\n",
       "<p>327148 rows × 10 columns</p>\n",
       "</div>"
      ],
      "text/plain": [
       "         jockey_wa  thoroughbred_surface_wa  mother_surface_wa  \\\n",
       "0         0.215971                 0.378049           0.239698   \n",
       "1         0.234601                 0.186364           0.242809   \n",
       "2         0.135422                 0.390000           0.175978   \n",
       "3         0.237233                 0.108571           0.102222   \n",
       "12        0.263259                 0.267000           0.267000   \n",
       "...            ...                      ...                ...   \n",
       "1138972   0.187292                 0.222222           0.271429   \n",
       "1138973   0.187944                 0.000000           0.465116   \n",
       "1138974   0.156719                 0.060000           0.060000   \n",
       "1138975   0.112419                 0.172727           0.198214   \n",
       "1138976   0.144099                 0.000000           0.128571   \n",
       "\n",
       "         father_surface_wa  thoroughbred_distance_wa  father_distance_wa  \\\n",
       "0                 0.216485                  0.452941            0.221374   \n",
       "1                 0.213500                  0.200000            0.190651   \n",
       "2                 0.211000                  0.200000            0.186903   \n",
       "3                 0.115169                  0.133333            0.121289   \n",
       "12                0.126294                  0.302326            0.116803   \n",
       "...                    ...                       ...                 ...   \n",
       "1138972           0.234439                  0.182353            0.232649   \n",
       "1138973           0.183257                  0.000000            0.201343   \n",
       "1138974           0.197485                  0.060000            0.187191   \n",
       "1138975           0.195779                  0.214286            0.204669   \n",
       "1138976           0.213761                  0.000000            0.193147   \n",
       "\n",
       "         mother_distance_wa  mother_general_wa  father_general_wa  \\\n",
       "0                  0.225455           0.197015           0.196410   \n",
       "1                  0.202105           0.229280           0.200867   \n",
       "2                  0.159664           0.162583           0.185879   \n",
       "3                  0.078125           0.097872           0.129344   \n",
       "12                 0.302326           0.231034           0.134732   \n",
       "...                     ...                ...                ...   \n",
       "1138972            0.238889           0.239394           0.224926   \n",
       "1138973            0.385106           0.406024           0.193552   \n",
       "1138974            0.060000           0.042857           0.181493   \n",
       "1138975            0.279747           0.231405           0.198864   \n",
       "1138976            0.161111           0.165116           0.195481   \n",
       "\n",
       "         centiseconds  \n",
       "0                9405  \n",
       "1                9617  \n",
       "2                9749  \n",
       "3               10049  \n",
       "12              10294  \n",
       "...               ...  \n",
       "1138972         10701  \n",
       "1138973         10720  \n",
       "1138974         10746  \n",
       "1138975         10785  \n",
       "1138976         11222  \n",
       "\n",
       "[327148 rows x 10 columns]"
      ]
     },
     "execution_count": 25,
     "metadata": {},
     "output_type": "execute_result"
    }
   ],
   "source": [
    "df_train_total"
   ]
  },
  {
   "cell_type": "code",
   "execution_count": 26,
   "id": "568893ea",
   "metadata": {},
   "outputs": [],
   "source": [
    "corr_matrix = df_train_total.corr()"
   ]
  },
  {
   "cell_type": "code",
   "execution_count": 27,
   "id": "dae6fc62",
   "metadata": {},
   "outputs": [
    {
     "data": {
      "text/plain": [
       "centiseconds                1.000000\n",
       "father_surface_wa          -0.100659\n",
       "mother_surface_wa          -0.102923\n",
       "father_general_wa          -0.109068\n",
       "mother_general_wa          -0.112858\n",
       "father_distance_wa         -0.124348\n",
       "mother_distance_wa         -0.127822\n",
       "thoroughbred_surface_wa    -0.133675\n",
       "jockey_wa                  -0.140096\n",
       "thoroughbred_distance_wa   -0.152720\n",
       "Name: centiseconds, dtype: float64"
      ]
     },
     "execution_count": 27,
     "metadata": {},
     "output_type": "execute_result"
    }
   ],
   "source": [
    "corr_matrix['centiseconds'].sort_values(ascending=False)"
   ]
  },
  {
   "cell_type": "markdown",
   "id": "45c5d800",
   "metadata": {},
   "source": [
    "# Tuning Hyperparameters"
   ]
  },
  {
   "cell_type": "code",
   "execution_count": 5,
   "id": "810f2ce6",
   "metadata": {},
   "outputs": [
    {
     "data": {
      "text/plain": [
       "GridSearchCV(cv=5, estimator=GradientBoostingRegressor(),\n",
       "             param_grid=[{'learning_rate': [0.1, 0.2, 0.3],\n",
       "                          'max_depth': [1, 2, 3],\n",
       "                          'n_estimators': [50, 100, 150]}],\n",
       "             return_train_score=True, scoring='neg_mean_squared_error')"
      ]
     },
     "execution_count": 5,
     "metadata": {},
     "output_type": "execute_result"
    }
   ],
   "source": [
    "from sklearn.ensemble import GradientBoostingRegressor\n",
    "from sklearn.model_selection import GridSearchCV\n",
    "param_grid = [\n",
    "{'n_estimators': [50, 100, 150], 'learning_rate': [0.1, 0.2, 0.3], 'max_depth': [1, 2, 3]}\n",
    "]\n",
    "grad = GradientBoostingRegressor()\n",
    "grid_search = GridSearchCV(grad, param_grid, cv=5,\n",
    "scoring='neg_mean_squared_error',\n",
    "return_train_score=True)\n",
    "grid_search.fit(X_train, y_train)"
   ]
  },
  {
   "cell_type": "code",
   "execution_count": 6,
   "id": "fe66cf2f",
   "metadata": {
    "scrolled": true
   },
   "outputs": [
    {
     "data": {
      "text/plain": [
       "{'learning_rate': 0.3, 'max_depth': 3, 'n_estimators': 150}"
      ]
     },
     "execution_count": 6,
     "metadata": {},
     "output_type": "execute_result"
    }
   ],
   "source": [
    "grid_search.best_params_"
   ]
  },
  {
   "cell_type": "code",
   "execution_count": 8,
   "id": "edc3d657",
   "metadata": {},
   "outputs": [
    {
     "name": "stdout",
     "output_type": "stream",
     "text": [
      "Wall time: 1h 7min 30s\n"
     ]
    },
    {
     "data": {
      "text/plain": [
       "GridSearchCV(cv=5, estimator=GradientBoostingRegressor(),\n",
       "             param_grid=[{'learning_rate': [0.3, 0.4], 'max_depth': [3, 4],\n",
       "                          'n_estimators': [150, 200]}],\n",
       "             return_train_score=True, scoring='neg_mean_squared_error')"
      ]
     },
     "execution_count": 8,
     "metadata": {},
     "output_type": "execute_result"
    }
   ],
   "source": [
    "%%time\n",
    "from sklearn.ensemble import GradientBoostingRegressor\n",
    "from sklearn.model_selection import GridSearchCV\n",
    "param_grid = [\n",
    "{'n_estimators': [150,200], 'learning_rate': [0.3,0.4], 'max_depth': [3,4]}\n",
    "]\n",
    "grad = GradientBoostingRegressor()\n",
    "grid_search = GridSearchCV(grad, param_grid, cv=5,\n",
    "scoring='neg_mean_squared_error',\n",
    "return_train_score=True)\n",
    "grid_search.fit(X_train, y_train)"
   ]
  },
  {
   "cell_type": "code",
   "execution_count": 9,
   "id": "c53c0a16",
   "metadata": {},
   "outputs": [
    {
     "data": {
      "text/plain": [
       "{'learning_rate': 0.4, 'max_depth': 4, 'n_estimators': 200}"
      ]
     },
     "execution_count": 9,
     "metadata": {},
     "output_type": "execute_result"
    }
   ],
   "source": [
    "grid_search.best_params_"
   ]
  },
  {
   "cell_type": "code",
   "execution_count": null,
   "id": "569d2a97",
   "metadata": {},
   "outputs": [],
   "source": [
    "%%time\n",
    "from sklearn.ensemble import GradientBoostingRegressor\n",
    "from sklearn.model_selection import GridSearchCV\n",
    "param_grid = [\n",
    "{'n_estimators': [200,250], 'learning_rate': [0.4,0.5], 'max_depth': [4,5]}\n",
    "]\n",
    "grad = GradientBoostingRegressor()\n",
    "grid_search = GridSearchCV(grad, param_grid, cv=5,\n",
    "scoring='neg_mean_squared_error',\n",
    "verbose = 3,\n",
    "return_train_score=True)\n",
    "grid_search.fit(X_train, y_train)"
   ]
  },
  {
   "cell_type": "code",
   "execution_count": 11,
   "id": "a0416d17",
   "metadata": {},
   "outputs": [
    {
     "data": {
      "text/plain": [
       "{'learning_rate': 0.4, 'max_depth': 4, 'n_estimators': 200}"
      ]
     },
     "execution_count": 11,
     "metadata": {},
     "output_type": "execute_result"
    }
   ],
   "source": [
    "grid_search.best_params_"
   ]
  },
  {
   "cell_type": "code",
   "execution_count": 12,
   "id": "f9a6188c",
   "metadata": {},
   "outputs": [
    {
     "name": "stdout",
     "output_type": "stream",
     "text": [
      "Wall time: 2min 56s\n"
     ]
    },
    {
     "data": {
      "text/plain": [
       "GradientBoostingRegressor(learning_rate=0.4, max_depth=4, n_estimators=200)"
      ]
     },
     "execution_count": 12,
     "metadata": {},
     "output_type": "execute_result"
    }
   ],
   "source": [
    "%%time \n",
    "reg1 = GradientBoostingRegressor(n_estimators=200, learning_rate=0.4,max_depth=4, loss='ls')\n",
    "reg1.fit(X_train, y_train)"
   ]
  },
  {
   "cell_type": "code",
   "execution_count": 13,
   "id": "fe58236c",
   "metadata": {},
   "outputs": [
    {
     "data": {
      "text/plain": [
       "GridSearchCV(cv=5, estimator=Lasso(),\n",
       "             param_grid=[{'alpha': [0.05, 0.1, 0.2, 0.3, 0.4, 0.5, 0.6, 0.7,\n",
       "                                    0.8, 0.9, 1]}],\n",
       "             return_train_score=True, scoring='neg_mean_squared_error')"
      ]
     },
     "execution_count": 13,
     "metadata": {},
     "output_type": "execute_result"
    }
   ],
   "source": [
    "param_grid = [\n",
    "{'alpha': [0.05,0.1,0.2,0.3,0.4,0.5,0.6,0.7,0.8,0.9,1]}\n",
    "]\n",
    "lr = Lasso()\n",
    "grid_search = GridSearchCV(lr, param_grid, cv=5,\n",
    "scoring='neg_mean_squared_error',\n",
    "return_train_score=True)\n",
    "grid_search.fit(X_train, y_train)"
   ]
  },
  {
   "cell_type": "code",
   "execution_count": 14,
   "id": "4c43c4b5",
   "metadata": {},
   "outputs": [
    {
     "data": {
      "text/plain": [
       "{'alpha': 0.4}"
      ]
     },
     "execution_count": 14,
     "metadata": {},
     "output_type": "execute_result"
    }
   ],
   "source": [
    "grid_search.best_params_"
   ]
  },
  {
   "cell_type": "code",
   "execution_count": 9,
   "id": "f39ae7b6",
   "metadata": {},
   "outputs": [
    {
     "name": "stdout",
     "output_type": "stream",
     "text": [
      "Fitting 5 folds for each of 14 candidates, totalling 70 fits\n",
      "[CV 1/5] END alpha=1;, score=(train=-934400.690, test=-1421569.876) total time=   0.0s\n",
      "[CV 2/5] END alpha=1;, score=(train=-1038327.385, test=-983532.839) total time=   0.0s\n",
      "[CV 3/5] END alpha=1;, score=(train=-1047121.145, test=-950777.650) total time=   0.0s\n",
      "[CV 4/5] END alpha=1;, score=(train=-1053294.066, test=-922149.864) total time=   0.0s\n",
      "[CV 5/5] END alpha=1;, score=(train=-1048860.668, test=-937868.519) total time=   0.0s\n",
      "[CV 1/5] END alpha=2;, score=(train=-934403.798, test=-1421301.110) total time=   0.0s\n",
      "[CV 2/5] END alpha=2;, score=(train=-1038328.165, test=-983521.736) total time=   0.0s\n",
      "[CV 3/5] END alpha=2;, score=(train=-1047122.372, test=-950755.342) total time=   0.0s\n",
      "[CV 4/5] END alpha=2;, score=(train=-1053294.804, test=-922189.599) total time=   0.0s\n",
      "[CV 5/5] END alpha=2;, score=(train=-1048861.274, test=-937890.361) total time=   0.0s\n",
      "[CV 1/5] END alpha=4;, score=(train=-934414.935, test=-1420805.519) total time=   0.0s\n",
      "[CV 2/5] END alpha=4;, score=(train=-1038331.093, test=-983499.760) total time=   0.0s\n",
      "[CV 3/5] END alpha=4;, score=(train=-1047126.845, test=-950715.040) total time=   0.0s\n",
      "[CV 4/5] END alpha=4;, score=(train=-1053297.453, test=-922268.792) total time=   0.0s\n",
      "[CV 5/5] END alpha=4;, score=(train=-1048863.556, test=-937932.745) total time=   0.0s\n",
      "[CV 1/5] END alpha=10;, score=(train=-934474.943, test=-1419579.886) total time=   0.0s\n",
      "[CV 2/5] END alpha=10;, score=(train=-1038348.556, test=-983436.083) total time=   0.0s\n",
      "[CV 3/5] END alpha=10;, score=(train=-1047151.889, test=-950620.698) total time=   0.0s\n",
      "[CV 4/5] END alpha=10;, score=(train=-1053311.753, test=-922501.057) total time=   0.0s\n",
      "[CV 5/5] END alpha=10;, score=(train=-1048877.292, test=-938051.166) total time=   0.0s\n",
      "[CV 1/5] END alpha=40;, score=(train=-934944.104, test=-1416323.706) total time=   0.0s\n",
      "[CV 2/5] END alpha=40;, score=(train=-1038523.328, test=-983159.934) total time=   0.0s\n",
      "[CV 3/5] END alpha=40;, score=(train=-1047371.968, test=-950429.394) total time=   0.0s\n",
      "[CV 4/5] END alpha=40;, score=(train=-1053429.034, test=-923488.249) total time=   0.0s\n",
      "[CV 5/5] END alpha=40;, score=(train=-1049018.652, test=-938520.863) total time=   0.0s\n",
      "[CV 1/5] END alpha=80;, score=(train=-935526.027, test=-1414622.570) total time=   0.0s\n",
      "[CV 2/5] END alpha=80;, score=(train=-1038798.674, test=-982837.386) total time=   0.0s\n",
      "[CV 3/5] END alpha=80;, score=(train=-1047690.891, test=-950417.836) total time=   0.0s\n",
      "[CV 4/5] END alpha=80;, score=(train=-1053598.904, test=-924466.528) total time=   0.0s\n",
      "[CV 5/5] END alpha=80;, score=(train=-1049247.779, test=-938975.594) total time=   0.0s\n",
      "[CV 1/5] END alpha=85;, score=(train=-935589.555, test=-1414493.659) total time=   0.0s\n",
      "[CV 2/5] END alpha=85;, score=(train=-1038832.325, test=-982798.498) total time=   0.0s\n",
      "[CV 3/5] END alpha=85;, score=(train=-1047728.675, test=-950423.737) total time=   0.0s\n",
      "[CV 4/5] END alpha=85;, score=(train=-1053619.601, test=-924571.222) total time=   0.0s\n",
      "[CV 5/5] END alpha=85;, score=(train=-1049276.089, test=-939024.222) total time=   0.0s\n",
      "[CV 1/5] END alpha=90;, score=(train=-935651.218, test=-1414376.093) total time=   0.0s\n",
      "[CV 2/5] END alpha=90;, score=(train=-1038865.683, test=-982759.840) total time=   0.0s\n",
      "[CV 3/5] END alpha=90;, score=(train=-1047765.910, test=-950430.609) total time=   0.0s\n",
      "[CV 4/5] END alpha=90;, score=(train=-1053640.152, test=-924672.955) total time=   0.0s\n",
      "[CV 5/5] END alpha=90;, score=(train=-1049304.198, test=-939071.500) total time=   0.0s\n",
      "[CV 1/5] END alpha=91;, score=(train=-935663.335, test=-1414353.825) total time=   0.0s\n",
      "[CV 2/5] END alpha=91;, score=(train=-1038872.319, test=-982752.135) total time=   0.0s\n",
      "[CV 3/5] END alpha=91;, score=(train=-1047773.291, test=-950432.090) total time=   0.0s\n",
      "[CV 4/5] END alpha=91;, score=(train=-1053644.245, test=-924692.965) total time=   0.0s\n",
      "[CV 5/5] END alpha=91;, score=(train=-1049309.794, test=-939080.803) total time=   0.0s\n",
      "[CV 1/5] END alpha=100;, score=(train=-935769.303, test=-1414170.046) total time=   0.0s\n",
      "[CV 2/5] END alpha=100;, score=(train=-1038931.500, test=-982683.189) total time=   0.0s\n",
      "[CV 3/5] END alpha=100;, score=(train=-1047838.751, test=-950446.827) total time=   0.0s\n",
      "[CV 4/5] END alpha=100;, score=(train=-1053680.822, test=-924868.362) total time=   0.0s\n",
      "[CV 5/5] END alpha=100;, score=(train=-1049359.773, test=-939162.413) total time=   0.0s\n",
      "[CV 1/5] END alpha=200;, score=(train=-936687.862, test=-1413208.984) total time=   0.0s\n",
      "[CV 2/5] END alpha=200;, score=(train=-1039535.594, test=-981967.828) total time=   0.0s\n",
      "[CV 3/5] END alpha=200;, score=(train=-1048472.149, test=-950700.036) total time=   0.0s\n",
      "[CV 4/5] END alpha=200;, score=(train=-1054064.080, test=-926442.294) total time=   0.0s\n",
      "[CV 5/5] END alpha=200;, score=(train=-1049872.851, test=-939909.119) total time=   0.0s\n",
      "[CV 1/5] END alpha=300;, score=(train=-937362.917, test=-1413008.380) total time=   0.0s\n",
      "[CV 2/5] END alpha=300;, score=(train=-1040083.663, test=-981354.364) total time=   0.0s\n",
      "[CV 3/5] END alpha=300;, score=(train=-1049002.812, test=-951012.311) total time=   0.0s\n",
      "[CV 4/5] END alpha=300;, score=(train=-1054425.202, test=-927654.601) total time=   0.0s\n",
      "[CV 5/5] END alpha=300;, score=(train=-1050337.324, test=-940521.267) total time=   0.0s\n",
      "[CV 1/5] END alpha=400;, score=(train=-937934.807, test=-1413054.599) total time=   0.0s\n",
      "[CV 2/5] END alpha=400;, score=(train=-1040605.181, test=-980836.109) total time=   0.0s\n",
      "[CV 3/5] END alpha=400;, score=(train=-1049482.646, test=-951338.191) total time=   0.0s\n",
      "[CV 4/5] END alpha=400;, score=(train=-1054775.958, test=-928688.953) total time=   0.0s\n",
      "[CV 5/5] END alpha=400;, score=(train=-1050776.631, test=-941081.704) total time=   0.0s\n",
      "[CV 1/5] END alpha=500;, score=(train=-938449.521, test=-1413212.260) total time=   0.0s\n",
      "[CV 2/5] END alpha=500;, score=(train=-1041107.970, test=-980396.416) total time=   0.0s\n",
      "[CV 3/5] END alpha=500;, score=(train=-1049930.682, test=-951663.681) total time=   0.0s\n",
      "[CV 4/5] END alpha=500;, score=(train=-1055118.048, test=-929610.326) total time=   0.0s\n",
      "[CV 5/5] END alpha=500;, score=(train=-1051198.095, test=-941613.705) total time=   0.0s\n"
     ]
    },
    {
     "data": {
      "text/plain": [
       "GridSearchCV(cv=5, estimator=Ridge(),\n",
       "             param_grid=[{'alpha': [1, 2, 4, 10, 40, 80, 85, 90, 91, 100, 200,\n",
       "                                    300, 400, 500]}],\n",
       "             return_train_score=True, scoring='neg_mean_squared_error',\n",
       "             verbose=3)"
      ]
     },
     "execution_count": 9,
     "metadata": {},
     "output_type": "execute_result"
    }
   ],
   "source": [
    "param_grid = [\n",
    "{'alpha': [1,2,4,10,40,80,85,90,91,100,200,300,400,500]}\n",
    "]\n",
    "rr = Ridge()\n",
    "grid_search = GridSearchCV(rr, param_grid, cv=5,\n",
    "scoring='neg_mean_squared_error',\n",
    "return_train_score=True,\n",
    "verbose = 3)\n",
    "grid_search.fit(X_train, y_train)"
   ]
  },
  {
   "cell_type": "code",
   "execution_count": 7,
   "id": "8b34dff4",
   "metadata": {},
   "outputs": [
    {
     "data": {
      "text/plain": [
       "{'alpha': 90}"
      ]
     },
     "execution_count": 7,
     "metadata": {},
     "output_type": "execute_result"
    }
   ],
   "source": [
    "grid_search.best_params_"
   ]
  },
  {
   "cell_type": "code",
   "execution_count": 42,
   "id": "3d1049e3",
   "metadata": {},
   "outputs": [
    {
     "name": "stdout",
     "output_type": "stream",
     "text": [
      "Fitting 5 folds for each of 3 candidates, totalling 15 fits\n",
      "[CV 1/5] END n_neighbors=5;, score=(train=-593978.765, test=-1624237.378) total time=  16.6s\n",
      "[CV 2/5] END n_neighbors=5;, score=(train=-648694.889, test=-1234788.337) total time=  15.5s\n",
      "[CV 3/5] END n_neighbors=5;, score=(train=-652880.976, test=-1178707.077) total time=  14.3s\n",
      "[CV 4/5] END n_neighbors=5;, score=(train=-662288.766, test=-1105499.757) total time=  13.7s\n",
      "[CV 5/5] END n_neighbors=5;, score=(train=-656702.007, test=-1161875.960) total time=  13.3s\n",
      "[CV 1/5] END n_neighbors=10;, score=(train=-702336.857, test=-1520332.924) total time=  20.6s\n",
      "[CV 2/5] END n_neighbors=10;, score=(train=-772755.302, test=-1123989.836) total time=  18.6s\n",
      "[CV 3/5] END n_neighbors=10;, score=(train=-781710.403, test=-1077091.195) total time=  17.6s\n",
      "[CV 4/5] END n_neighbors=10;, score=(train=-791826.228, test=-1012531.267) total time=  18.5s\n",
      "[CV 5/5] END n_neighbors=10;, score=(train=-784127.963, test=-1063818.380) total time=  17.4s\n",
      "[CV 1/5] END n_neighbors=20;, score=(train=-786921.059, test=-1457609.478) total time=  29.9s\n",
      "[CV 2/5] END n_neighbors=20;, score=(train=-867617.335, test=-1061941.843) total time=  22.7s\n",
      "[CV 3/5] END n_neighbors=20;, score=(train=-879316.698, test=-1019552.900) total time=  22.8s\n",
      "[CV 4/5] END n_neighbors=20;, score=(train=-888884.117, test=-959240.113) total time=  22.3s\n",
      "[CV 5/5] END n_neighbors=20;, score=(train=-878459.388, test=-1009825.158) total time=  21.1s\n",
      "Wall time: 17min 43s\n"
     ]
    },
    {
     "data": {
      "text/plain": [
       "GridSearchCV(cv=5, estimator=KNeighborsRegressor(),\n",
       "             param_grid=[{'n_neighbors': [5, 10, 20]}], return_train_score=True,\n",
       "             scoring='neg_mean_squared_error', verbose=3)"
      ]
     },
     "execution_count": 42,
     "metadata": {},
     "output_type": "execute_result"
    }
   ],
   "source": [
    "%%time\n",
    "param_grid = [\n",
    "{'n_neighbors': [5,10,20]}\n",
    "]\n",
    "knnr = KNeighborsRegressor()\n",
    "grid_search = GridSearchCV(knnr, param_grid, cv=5,\n",
    "scoring='neg_mean_squared_error',\n",
    "return_train_score=True,\n",
    "verbose=3)\n",
    "grid_search.fit(X_train, y_train)"
   ]
  },
  {
   "cell_type": "code",
   "execution_count": 43,
   "id": "49ff3f0f",
   "metadata": {},
   "outputs": [
    {
     "data": {
      "text/plain": [
       "{'n_neighbors': 20}"
      ]
     },
     "execution_count": 43,
     "metadata": {},
     "output_type": "execute_result"
    }
   ],
   "source": [
    "grid_search.best_params_"
   ]
  },
  {
   "cell_type": "code",
   "execution_count": null,
   "id": "14fbd9b0",
   "metadata": {},
   "outputs": [],
   "source": [
    "%%time\n",
    "param_grid = [\n",
    "{'n_neighbors': [30,40]}\n",
    "]\n",
    "knnr = KNeighborsRegressor()\n",
    "grid_search = GridSearchCV(knnr, param_grid, cv=5,\n",
    "scoring='neg_mean_squared_error',\n",
    "return_train_score=True,\n",
    "verbose=3)\n",
    "grid_search.fit(X_train, y_train)"
   ]
  },
  {
   "cell_type": "markdown",
   "id": "02735f93",
   "metadata": {},
   "source": [
    "# FINAL TRAIN"
   ]
  },
  {
   "cell_type": "code",
   "execution_count": 34,
   "id": "46700af6",
   "metadata": {},
   "outputs": [
    {
     "name": "stdout",
     "output_type": "stream",
     "text": [
      "short_turf voting done\n",
      "short_turf gbr done\n",
      "short_turf knn done\n",
      "short_turf lasso done\n",
      "short_turf ridge done\n",
      "short_dirt voting done\n",
      "short_dirt gbr done\n",
      "short_dirt knn done\n",
      "short_dirt lasso done\n",
      "short_dirt ridge done\n",
      "middle_turf voting done\n",
      "middle_turf gbr done\n",
      "middle_turf knn done\n",
      "middle_turf lasso done\n",
      "middle_turf ridge done\n",
      "middle_dirt voting done\n",
      "middle_dirt gbr done\n",
      "middle_dirt knn done\n",
      "middle_dirt lasso done\n",
      "middle_dirt ridge done\n",
      "long_turf voting done\n",
      "long_turf gbr done\n",
      "long_turf knn done\n",
      "long_turf lasso done\n",
      "long_turf ridge done\n",
      "long_dirt voting done\n",
      "long_dirt gbr done\n",
      "long_dirt knn done\n",
      "long_dirt lasso done\n",
      "long_dirt ridge done\n"
     ]
    }
   ],
   "source": [
    "model_dict={}\n",
    "distance_list=[\"short\",\"middle\",\"long\"]\n",
    "surface_list=[\"Turf\",\"Dirt\"]\n",
    "l = [distance_list,surface_list]\n",
    "for i in list(itertools.product(*l)):\n",
    "    temp_model_list=[]\n",
    "    distance=i[0]\n",
    "    surface=i[1]\n",
    "    \n",
    "    # Distance masked dataframe (picks only data in same distance category)\n",
    "    df_mask_distance = df1[df1[\"distance_cat\"]==distance]\n",
    "\n",
    "    # Surface masked dataframe (picks only data in same surface)\n",
    "    df_mask_surface = df1[df1[\"surface\"]==surface]\n",
    "\n",
    "    # Both same surface and same distance category masked dataframe (Will be used as train set)\n",
    "    df_double_mask = df_mask_distance[df_mask_distance[\"surface\"]==surface]\n",
    "\n",
    "    #Creates a dictionary with required column names\n",
    "    test_set_dict_k1={\"thoroughbred_id\":[],\"jockey_wa\":[],\"thoroughbred_surface_wa\":[],\"mother_surface_wa\":[],\n",
    "                       \"father_surface_wa\":[],\"thoroughbred_distance_wa\":[],\"father_distance_wa\":[],\"mother_distance_wa\":[],\n",
    "                       \"mother_general_wa\":[],\"father_general_wa\":[]} # Wa means Weighted Average\n",
    "\n",
    "    # Function that creates dataframe from dictionaries\n",
    "    def train_set_to_x_y(df):\n",
    "        df_train_total = df[[\"jockey_wa\",\"thoroughbred_surface_wa\",\"mother_surface_wa\",\"father_surface_wa\",\n",
    "                             \"thoroughbred_distance_wa\",\"father_distance_wa\",\"mother_distance_wa\",\"mother_general_wa\",\n",
    "                             \"father_general_wa\",\"centiseconds\"]]\n",
    "        y_train=df_train_total[\"centiseconds\"]\n",
    "        X_train=df_train_total\n",
    "        del X_train[\"centiseconds\"]\n",
    "        return X_train,y_train\n",
    "\n",
    "    X_train,y_train = train_set_to_x_y(df_double_mask)\n",
    "\n",
    "    name = str(distance)+\"_\"+str(surface.lower())\n",
    "    \n",
    "    #Fits train sets to models and puts into dict\n",
    "    \n",
    "    reg1 = GradientBoostingRegressor(n_estimators=200, learning_rate=0.4,max_depth=4, loss='ls')\n",
    "    reg2 = Lasso(alpha=0.4)\n",
    "    reg3 = Ridge(alpha=90)\n",
    "    reg4 = KNeighborsRegressor(n_neighbors=30)\n",
    "\n",
    "    ereg = VotingRegressor(estimators=[('gb', reg1), ('lr', reg2),('rr',reg3),('knnr',reg4)])\n",
    "    ereg = ereg.fit(X_train, y_train)\n",
    "    temp_model_list.append(ereg)\n",
    "    print(name+' voting done')\n",
    "\n",
    "    gbr = GradientBoostingRegressor(n_estimators=200, learning_rate=0.4,max_depth=4, loss='ls')\n",
    "    gbr.fit(X_train, y_train)\n",
    "    temp_model_list.append(gbr)\n",
    "    print(name+' gbr done')\n",
    "\n",
    "    knnr = KNeighborsRegressor(n_neighbors=30)\n",
    "    knnr.fit(X_train, y_train)\n",
    "    temp_model_list.append(knnr)\n",
    "    print(name+' knn done')\n",
    "\n",
    "    lr = Lasso(alpha=0.4)\n",
    "    lr.fit(X_train, y_train)\n",
    "    temp_model_list.append(lr)\n",
    "    print(name+' lasso done')\n",
    "\n",
    "    rr = Ridge(alpha=90)\n",
    "    rr.fit(X_train, y_train)\n",
    "    temp_model_list.append(rr)\n",
    "    print(name+' ridge done')\n",
    "    \n",
    "    model_dict[name]=temp_model_list\n",
    "\n",
    "#Saves created dictionary\n",
    "with open(\"models.pkl\", \"wb\") as f:\n",
    "    pickle.dump(model_dict, f)\n"
   ]
  }
 ],
 "metadata": {
  "hide_input": false,
  "kernelspec": {
   "display_name": "Python 3",
   "language": "python",
   "name": "python3"
  },
  "language_info": {
   "codemirror_mode": {
    "name": "ipython",
    "version": 3
   },
   "file_extension": ".py",
   "mimetype": "text/x-python",
   "name": "python",
   "nbconvert_exporter": "python",
   "pygments_lexer": "ipython3",
   "version": "3.9.1"
  }
 },
 "nbformat": 4,
 "nbformat_minor": 5
}
